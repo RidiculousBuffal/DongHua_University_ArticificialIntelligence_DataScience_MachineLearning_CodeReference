{
 "cells": [
  {
   "cell_type": "code",
   "execution_count": 1,
   "metadata": {},
   "outputs": [
    {
     "name": "stdout",
     "output_type": "stream",
     "text": [
      "请输入距离度量L1/L2:L1\n",
      "是否标准化数据Y/N:Y\n",
      "the RMSE is: 90.836\n"
     ]
    }
   ],
   "source": [
    "#!/usr/bin/env python3\n",
    "# -*- coding: utf-8 -*-\n",
    "\"\"\"\n",
    "Created on Wed Mar 15 15:10:51 2023\n",
    "\n",
    "@author: junsenchen\n",
    "\"\"\"\n",
    "\n",
    "from sklearn import datasets\n",
    "from sklearn.model_selection import train_test_split\n",
    "import numpy as np\n",
    "import math as mt\n",
    "\n",
    "diabetes = datasets.load_diabetes()\n",
    "X = diabetes.data\n",
    "Y = diabetes.target\n",
    "\n",
    "xmin0 = X.min(axis = 0)\n",
    "xmax0 = X.max(axis = 0)\n",
    "\n",
    "\n",
    "X_train, X_test, Y_train, Y_test = train_test_split(X, Y, test_size= 0.4, random_state=230) #random_state\n",
    "\n",
    "\n",
    "\n",
    "def MinMaxSc(x):\n",
    "    return (x - xmin0)/(xmax0 - xmin0);\n",
    "\n",
    "def euc_dis(instance1, instance2, p):\n",
    "    \n",
    "    if(p == \"L2\"):\n",
    "        dist = np.sqrt(sum((instance1 - instance2)**2))\n",
    "    else:\n",
    "        dist = mt.fabs(sum(instance1 - instance2))\n",
    "    return dist\n",
    "\n",
    "def knn_predict(X, Y, testInstance, k, p, std):\n",
    "    \n",
    "    if(std == 'Y'):\n",
    "        distances = [euc_dis( MinMaxSc(x) , MinMaxSc(testInstance), p) for x in X]\n",
    "    else:\n",
    "        distances = [euc_dis(x, testInstance, p) for x in X]\n",
    "    kneighbors = np.argsort(distances)[:k] # k: 几个近邻\n",
    "    ave = np.mean(kneighbors)\n",
    "    return ave\n",
    "\n",
    "p = input(\"请输入距离度量L1/L2:\")\n",
    "std = input(\"是否标准化数据Y/N:\")\n",
    "\n",
    "\n",
    "predictions = [knn_predict(X_train, Y_train, data, 3, p, std) for data in X_test]\n",
    "correct = np.sum((predictions-Y_test)**2)\n",
    "\n",
    "\n",
    "print(\"the RMSE is: %.3f\" %mt.sqrt((correct/len(X_test))))"
   ]
  },
  {
   "cell_type": "code",
   "execution_count": null,
   "metadata": {},
   "outputs": [],
   "source": []
  }
 ],
 "metadata": {
  "kernelspec": {
   "display_name": "Python 3",
   "language": "python",
   "name": "python3"
  },
  "language_info": {
   "codemirror_mode": {
    "name": "ipython",
    "version": 3
   },
   "file_extension": ".py",
   "mimetype": "text/x-python",
   "name": "python",
   "nbconvert_exporter": "python",
   "pygments_lexer": "ipython3",
   "version": "3.8.3"
  }
 },
 "nbformat": 4,
 "nbformat_minor": 5
}
