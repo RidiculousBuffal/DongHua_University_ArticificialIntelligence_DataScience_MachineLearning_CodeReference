{
 "cells": [
  {
   "cell_type": "markdown",
   "id": "2110cdf6",
   "metadata": {},
   "source": [
    "# 实验1：熵的计算"
   ]
  },
  {
   "cell_type": "markdown",
   "id": "fbcaf987",
   "metadata": {},
   "source": [
    "## 1.1 创建数据集"
   ]
  },
  {
   "cell_type": "code",
   "execution_count": 1,
   "id": "d28122c6",
   "metadata": {},
   "outputs": [
    {
     "name": "stdout",
     "output_type": "stream",
     "text": [
      "[[0, 0, 0, 0, 'no'], [0, 0, 0, 1, 'no'], [0, 1, 0, 1, 'yes'], [0, 1, 1, 0, 'yes'], [0, 0, 0, 0, 'no'], [1, 0, 0, 0, 'no'], [1, 0, 0, 1, 'no'], [1, 1, 1, 1, 'yes'], [1, 0, 1, 2, 'yes'], [1, 0, 1, 2, 'yes'], [2, 0, 1, 2, 'yes'], [2, 0, 1, 1, 'yes'], [2, 1, 0, 1, 'yes'], [2, 1, 0, 2, 'yes'], [2, 0, 0, 0, 'no']]\n"
     ]
    }
   ],
   "source": [
    "\"\"\"\n",
    "函数说明:创建数据集\n",
    "\n",
    "Parameters:\n",
    "\t无\n",
    "Returns:\n",
    "\tdataSet - 数据集\n",
    "\tattributes - 特征属性\n",
    "\"\"\"\n",
    "def createDataSet():\n",
    "\tdataSet = [[0, 0, 0, 0, 'no'],\t\t\t\t\t\t#数据集\n",
    "\t\t\t[0, 0, 0, 1, 'no'],\n",
    "\t\t\t[0, 1, 0, 1, 'yes'],\n",
    "\t\t\t[0, 1, 1, 0, 'yes'],\n",
    "\t\t\t[0, 0, 0, 0, 'no'],\n",
    "\t\t\t[1, 0, 0, 0, 'no'],\n",
    "\t\t\t[1, 0, 0, 1, 'no'],\n",
    "\t\t\t[1, 1, 1, 1, 'yes'],\n",
    "\t\t\t[1, 0, 1, 2, 'yes'],\n",
    "\t\t\t[1, 0, 1, 2, 'yes'],\n",
    "\t\t\t[2, 0, 1, 2, 'yes'],\n",
    "\t\t\t[2, 0, 1, 1, 'yes'],\n",
    "\t\t\t[2, 1, 0, 1, 'yes'],\n",
    "\t\t\t[2, 1, 0, 2, 'yes'],\n",
    "\t\t\t[2, 0, 0, 0, 'no']]\n",
    "\tattributes = ['年龄', '有工作', '有自己的房子', '信贷情况']\t\t#特征标签\n",
    "\treturn dataSet, attributes \t\t\t\t\t\t\t#返回数据集和分类属性\n",
    "\n",
    "# 测试熵函数calcShannonEnt\n",
    "dataSet, attributes = createDataSet()\n",
    "print(dataSet)"
   ]
  },
  {
   "cell_type": "markdown",
   "id": "67a5a9e1",
   "metadata": {},
   "source": [
    "## 1.2 熵的计算"
   ]
  },
  {
   "cell_type": "code",
   "execution_count": 2,
   "id": "2249e944",
   "metadata": {},
   "outputs": [],
   "source": [
    "from math import log\n",
    "\"\"\"\n",
    "函数说明:计算给定数据集的经验熵(香农熵)\n",
    "\n",
    "Parameters:\n",
    "\tdataSet - 数据集\n",
    "Returns:\n",
    "\tshannonEnt - 经验熵(香农熵)\n",
    "Author:\n",
    "\tJack Cui\n",
    "Blog:\n",
    "\thttp://blog.csdn.net/c406495762\n",
    "Modify:\n",
    "\t2017-07-24\n",
    "\"\"\"\n",
    "def calcShannonEnt(dataSet):\n",
    "\tnumEntires = len(dataSet)\t\t\t\t\t\t#返回数据集的行数\n",
    "\tlabelCounts = {}\t\t\t\t\t\t\t\t#保存每个标签(Label)出现次数的字典\n",
    "\tfor featVec in dataSet:\t\t\t\t\t\t\t#对每组特征向量进行统计\n",
    "\t\tcurrentLabel = featVec[-1]\t\t\t\t\t#提取标签(Label)信息\n",
    "\t\tif currentLabel not in labelCounts.keys():\t#如果标签(Label)没有放入统计次数的字典,添加进去\n",
    "\t\t\tlabelCounts[currentLabel] = 0\n",
    "\t\tlabelCounts[currentLabel] += 1\t\t\t\t#Label计数\n",
    "\tshannonEnt = 0.0\t\t\t\t\t\t\t\t#经验熵(香农熵)\n",
    "\tfor key in labelCounts:\t\t\t\t\t\t\t#计算香农熵\n",
    "\t\tprob = float(labelCounts[key]) / numEntires\t#选择该标签(Label)的概率\n",
    "\t\tshannonEnt -= prob * log(prob, 2)\t\t\t#利用公式计算\n",
    "\treturn shannonEnt\t\t\t\t\t\t\t\t#返回经验熵(香农熵)"
   ]
  },
  {
   "cell_type": "code",
   "execution_count": 3,
   "id": "56031369",
   "metadata": {},
   "outputs": [
    {
     "name": "stdout",
     "output_type": "stream",
     "text": [
      "0.9709505944546686\n"
     ]
    }
   ],
   "source": [
    "print(calcShannonEnt(dataSet))"
   ]
  },
  {
   "cell_type": "markdown",
   "id": "179a8c02",
   "metadata": {},
   "source": [
    "# 实验2：条件熵的计算"
   ]
  },
  {
   "cell_type": "code",
   "execution_count": 4,
   "id": "628eccca",
   "metadata": {},
   "outputs": [],
   "source": [
    "\"\"\"\n",
    "函数说明:按照给定属性划分数据集\n",
    "\n",
    "Parameters:\n",
    "\tdataSet - 待划分的数据集\n",
    "\taxis - 划分数据集的属性索引\n",
    "\tvalue - 需要返回的属性的值\n",
    "Returns:\n",
    "\t无\n",
    "\"\"\"\n",
    "def splitDataSet(dataSet, axis, value):\t\t\n",
    "\tretSubDataSet = []\t\t\t\t\t\t\t\t\t\t#创建返回的数据集列表\n",
    "\tfor featVec in dataSet: \t\t\t\t\t\t\t#遍历数据集\n",
    "\t\tif featVec[axis] == value:\n",
    "\t\t\treducedFeatVec = featVec[:axis]\t\t\t\t#去掉axis特征\n",
    "\t\t\treducedFeatVec.extend(featVec[axis+1:]) \t#将符合条件的添加到返回的数据集\n",
    "\t\t\tretSubDataSet.append(reducedFeatVec)\n",
    "\treturn retSubDataSet\t\t  \t\t\t\t\t\t\t#返回划分后的数据集"
   ]
  },
  {
   "cell_type": "code",
   "execution_count": 5,
   "id": "7ba31060",
   "metadata": {},
   "outputs": [],
   "source": [
    "\"\"\"\n",
    "函数说明:计算给定数据集的某个属性下的条件熵\n",
    "\n",
    "Parameters:\n",
    "\tdataSet - 数据集\n",
    "\taxis - 划分数据集的属性索引\n",
    "Returns:\n",
    "\tconditionEntropy - 某个属性下的条件熵的值\n",
    "\"\"\"\n",
    "def calcCondShannonEnt(dataSet, axis):\n",
    "\tvalueList = [example[axis] for example in dataSet]\n",
    "\tuniqueVals = set(valueList)     \t\t\t\t\t#创建set集合{},元素不可重复\n",
    "\tconditionEntropy = 0.0  \t\t\t\t\t\t\t\t#经验条件熵\n",
    "\tfor value in uniqueVals: \t\t\t\t\t\t#计算信息增益\n",
    "\t\tsubDataSet = splitDataSet(dataSet, axis, value) \t\t#subDataSet划分后的子集\n",
    "\t\tprob = len(subDataSet) / float(len(dataSet))   \t\t#计算子集的概率\n",
    "\t\tconditionEntropy += prob * calcShannonEnt(subDataSet) \t#根据公式计算经验条件熵\n",
    "\treturn conditionEntropy"
   ]
  },
  {
   "cell_type": "code",
   "execution_count": 6,
   "id": "c0513792",
   "metadata": {},
   "outputs": [
    {
     "name": "stdout",
     "output_type": "stream",
     "text": [
      "Attribute:年龄\n",
      "Condition Entropy:0.8879430945988998\n",
      "Attribute:有工作\n",
      "Condition Entropy:0.6473003963031123\n",
      "Attribute:有自己的房子\n",
      "Condition Entropy:0.5509775004326937\n",
      "Attribute:信贷情况\n",
      "Condition Entropy:0.6079610319175832\n"
     ]
    }
   ],
   "source": [
    "# 测试条件熵函数calcCondShannonEnt\n",
    "for i in range(len(attributes)):\n",
    "\tprint(\"Attribute:{}\".format(attributes[i]))\n",
    "\tprint(\"Condition Entropy:{}\".format(calcCondShannonEnt(dataSet, i)))"
   ]
  },
  {
   "cell_type": "markdown",
   "id": "ff5a6697",
   "metadata": {},
   "source": [
    "# 实验3：基于信息增益的特征选择"
   ]
  },
  {
   "cell_type": "code",
   "execution_count": 7,
   "id": "e412b461",
   "metadata": {},
   "outputs": [],
   "source": [
    "\"\"\"\n",
    "函数说明:基于信息增益选择最优特征\n",
    "\n",
    "Parameters:\n",
    "\tdataSet - 数据集\n",
    "Returns:\n",
    "\tbestAttribute - 信息增益最大的(最优)特征的索引值\n",
    "\"\"\"\n",
    "def chooseBestAttributeByInfoGain(dataSet):\n",
    "\tnumAttributes = len(dataSet[0]) - 1\t\t\t\t\t#属性数量\n",
    "\tbaseEntropy = calcShannonEnt(dataSet) \t\t\t\t#计算数据集的香农熵\n",
    "\tbestInfoGain = 0.0  \t\t\t\t\t\t\t\t#信息增益\n",
    "\tbestFeature = -1\t\t\t\t\t\t\t\t\t#最优特征的索引值\n",
    "\tfor i in range(numAttributes): \t\t\t\t\t\t#遍历所有特征\n",
    "\t\tconditionEntropy = calcCondShannonEnt(dataSet, i)\n",
    "\t\tinfoGain = baseEntropy - conditionEntropy \t\t\t\t\t#信息增益\n",
    "\t\tprint(\"第{}个特征的信息增益为{:.3f}\".format(i, infoGain))\t\t\t#打印每个特征的信息增益\n",
    "\t\tif (infoGain > bestInfoGain): \t\t\t\t\t\t\t#计算信息增益\n",
    "\t\t\tbestInfoGain = infoGain \t\t\t\t\t\t\t#更新信息增益，找到最大的信息增益\n",
    "\t\t\tbestAttribute = i \t\t\t\t\t\t\t\t\t#记录信息增益最大的特征的索引值\n",
    "\treturn bestAttribute, bestInfoGain\t\t\t\t\t\t\t\t\t\t\t#返回信息增益最大的特征的索引值"
   ]
  },
  {
   "cell_type": "code",
   "execution_count": 8,
   "id": "8a7f09d1",
   "metadata": {},
   "outputs": [
    {
     "name": "stdout",
     "output_type": "stream",
     "text": [
      "第0个特征的信息增益为0.083\n",
      "第1个特征的信息增益为0.324\n",
      "第2个特征的信息增益为0.420\n",
      "第3个特征的信息增益为0.363\n",
      "基于信息增益选择最优特征为第2个特征:有自己的房子\n"
     ]
    }
   ],
   "source": [
    "# 测试条件熵函数calcCondShannonEnt\n",
    "bestAttribute, bestInfoGain = chooseBestAttributeByInfoGain(dataSet)\n",
    "print(\"基于信息增益选择最优特征为第{}个特征:{}\".format(bestAttribute, attributes[bestAttribute]))"
   ]
  },
  {
   "cell_type": "markdown",
   "id": "fb65c00a",
   "metadata": {},
   "source": [
    "# 实验4：基于ID3算法的决策树生成"
   ]
  },
  {
   "cell_type": "code",
   "execution_count": 9,
   "id": "1393a5cd",
   "metadata": {},
   "outputs": [],
   "source": [
    "\"\"\"\n",
    "函数说明:统计classList中出现此处最多的元素(类标签)\n",
    "\n",
    "Parameters:\n",
    "\tclassList - 类标签列表\n",
    "Returns:\n",
    "\tsortedClassCount[0][0] - 出现此处最多的元素(类标签)\n",
    "Author:\n",
    "\tJack Cui\n",
    "Blog:\n",
    "\thttp://blog.csdn.net/c406495762\n",
    "Modify:\n",
    "\t2017-07-24\n",
    "\"\"\"\n",
    "def majorityCnt(classList):\n",
    "\tclassCount = {}\n",
    "\tfor vote in classList:\t\t\t\t\t\t\t\t\t\t#统计classList中每个元素出现的次数\n",
    "\t\tif vote not in classCount.keys():classCount[vote] = 0\t\n",
    "\t\tclassCount[vote] += 1\n",
    "\tsortedClassCount = sorted(classCount.items(), key = lambda k:k[1], reverse = True)\t\t#根据字典的值降序排序\n",
    "\treturn sortedClassCount[0][0]\t\t\t\t\t\t\t\t#返回classList中出现次数最多的元素\n"
   ]
  },
  {
   "cell_type": "code",
   "execution_count": 10,
   "id": "096e714d",
   "metadata": {},
   "outputs": [],
   "source": [
    "\"\"\"\n",
    "函数说明:创建决策树\n",
    "\n",
    "Parameters:\n",
    "\tdataSet - 训练数据集\n",
    "\tattributes - 特征属性集\n",
    "\tthreshold - 阈值\n",
    "Returns:\n",
    "\tmyTree - 决策树\n",
    "\"\"\"\n",
    "def createTree(dataSet, attributes, threshold):\n",
    "\tclassList = [example[-1] for example in dataSet]\t\t\t#取分类标签(是否放贷:yes or no)\n",
    "\tif classList.count(classList[0]) == len(classList):\t\t\t#算法5.2（1），如果类别完全相同则停止继续划分\n",
    "\t\treturn classList[0]\n",
    "\tif len(attributes) == 0:\t\t\t\t\t\t\t\t\t#算法5.2（2），遍历完所有特征时返回出现次数最多的类标签\n",
    "\t\treturn majorityCnt(classList)\n",
    "\tbestAttribute, bestInfoGain = chooseBestAttributeByInfoGain(dataSet)\t\t#算法5.2（3）选择最优特征\n",
    "\tprint(\"属性集:{},最优属性:{},信息增益:{:.3f}\".format(attributes, bestAttribute, bestInfoGain))\n",
    "\tbestAttributeLabel = attributes[bestAttribute]\t\t\t\t\t\t\t#最优特征的标签\n",
    "\tif bestInfoGain < threshold:\t\t\t\t\t\t\t\t#算法5.2（4），如果信息增益小于阈值则停止继续划分\n",
    "\t\treturn majorityCnt(classList)\n",
    "\tmyTree = {bestAttributeLabel:{}}\t\t\t\t\t\t\t\t\t#根据最优特征的标签生成树\n",
    "\tdel(attributes[bestAttribute])\t\t\t\t\t\t\t\t#算法5.2（5，6），删除已经使用特征标签\n",
    "\tattributeValues = [example[bestAttribute] for example in dataSet]\t\t#得到训练集中所有最优特征的属性值\n",
    "\tuniqueVals = set(attributeValues)\t\t\t\t\t\t\t#去掉重复的属性值\n",
    "\tfor value in uniqueVals:\t\t\t\t\t\t\t\t\t#遍历特征，创建决策树。\n",
    "\t\tsubAttributes = attributes[:]\n",
    "\t\tmyTree[bestAttributeLabel][value] = createTree(splitDataSet(dataSet, bestAttribute, value), subAttributes, threshold)\n",
    "        \n",
    "\treturn myTree"
   ]
  },
  {
   "cell_type": "code",
   "execution_count": 11,
   "id": "cba2621b",
   "metadata": {},
   "outputs": [
    {
     "name": "stdout",
     "output_type": "stream",
     "text": [
      "第0个特征的信息增益为0.083\n",
      "第1个特征的信息增益为0.324\n",
      "第2个特征的信息增益为0.420\n",
      "第3个特征的信息增益为0.363\n",
      "属性集:['年龄', '有工作', '有自己的房子', '信贷情况'],最优属性:2,信息增益:0.420\n",
      "第0个特征的信息增益为0.252\n",
      "第1个特征的信息增益为0.918\n",
      "第2个特征的信息增益为0.474\n",
      "属性集:['年龄', '有工作', '信贷情况'],最优属性:1,信息增益:0.918\n",
      "{'有自己的房子': {0: {'有工作': {0: 'no', 1: 'yes'}}, 1: 'yes'}}\n"
     ]
    }
   ],
   "source": [
    "threshold = 0.01\n",
    "dataSet, attributes = createDataSet()\n",
    "myTree = createTree(dataSet, attributes, threshold)\n",
    "print(myTree)"
   ]
  },
  {
   "cell_type": "markdown",
   "id": "89bcb305",
   "metadata": {},
   "source": [
    "# 实验5：基于决策树的分类"
   ]
  },
  {
   "cell_type": "code",
   "execution_count": 12,
   "id": "bdec6a33",
   "metadata": {},
   "outputs": [
    {
     "data": {
      "text/plain": [
       "'有自己的房子'"
      ]
     },
     "execution_count": 12,
     "metadata": {},
     "output_type": "execute_result"
    }
   ],
   "source": [
    "next(iter(myTree))"
   ]
  },
  {
   "cell_type": "code",
   "execution_count": 13,
   "id": "a4464247",
   "metadata": {},
   "outputs": [],
   "source": [
    "\"\"\"\n",
    "函数说明:使用决策树分类\n",
    " \n",
    "Parameters:\n",
    "    inputTree - 已经生成的决策树\n",
    "    attributes - 属性标签\n",
    "    testVec - 测试数据列表\n",
    "Returns:\n",
    "    classLabel - 分类结果\n",
    "\"\"\"\n",
    "def classify(inputTree, attributes, testVec):\n",
    "    firstStr = next(iter(inputTree))                                                        #获取决策树结点\n",
    "    secondDict = inputTree[firstStr]                                                        #下一个字典\n",
    "    attributeIndex = attributes.index(firstStr)                                               \n",
    "    for key in secondDict.keys():\n",
    "        if testVec[attributeIndex] == key:\n",
    "            if type(secondDict[key]).__name__ == 'dict':\n",
    "                classLabel = classify(secondDict[key], attributes, testVec)\n",
    "            else: classLabel = secondDict[key]\n",
    "    return classLabel"
   ]
  },
  {
   "cell_type": "code",
   "execution_count": 14,
   "id": "ed75489d",
   "metadata": {},
   "outputs": [
    {
     "name": "stdout",
     "output_type": "stream",
     "text": [
      "第0个特征的信息增益为0.083\n",
      "第1个特征的信息增益为0.324\n",
      "第2个特征的信息增益为0.420\n",
      "第3个特征的信息增益为0.363\n",
      "属性集:['年龄', '有工作', '有自己的房子', '信贷情况'],最优属性:2,信息增益:0.420\n",
      "第0个特征的信息增益为0.252\n",
      "第1个特征的信息增益为0.918\n",
      "第2个特征的信息增益为0.474\n",
      "属性集:['年龄', '有工作', '信贷情况'],最优属性:1,信息增益:0.918\n",
      "{'有自己的房子': {0: {'有工作': {0: 'no', 1: 'yes'}}, 1: 'yes'}}\n",
      "['年龄', '有工作', '有自己的房子', '信贷情况']\n",
      "no\n",
      "yes\n"
     ]
    }
   ],
   "source": [
    "threshold = 0.01\n",
    "dataSet, attributes = createDataSet()\n",
    "attributeLabels = []\n",
    "attributeLabels.extend(attributes)\n",
    "myTree = createTree(dataSet, attributes, threshold)\n",
    "print(myTree)\n",
    "print(attributeLabels)\n",
    "testVec = [0,0,0,1]                                        #测试数据\n",
    "result = classify(myTree, attributeLabels, testVec)\n",
    "print(result)\n",
    "testVec = [1,1,1,1]                                        #测试数据\n",
    "result = classify(myTree, attributeLabels, testVec)\n",
    "print(result)"
   ]
  }
 ],
 "metadata": {
  "kernelspec": {
   "display_name": "Python 3 (ipykernel)",
   "language": "python",
   "name": "python3"
  },
  "language_info": {
   "codemirror_mode": {
    "name": "ipython",
    "version": 3
   },
   "file_extension": ".py",
   "mimetype": "text/x-python",
   "name": "python",
   "nbconvert_exporter": "python",
   "pygments_lexer": "ipython3",
   "version": "3.9.7"
  }
 },
 "nbformat": 4,
 "nbformat_minor": 5
}
